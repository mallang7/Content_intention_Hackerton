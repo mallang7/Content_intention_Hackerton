{
  "nbformat": 4,
  "nbformat_minor": 0,
  "metadata": {
    "colab": {
      "name": "content_intention",
      "provenance": [],
      "collapsed_sections": [],
      "include_colab_link": true
    },
    "kernelspec": {
      "display_name": "Python 3",
      "language": "python",
      "name": "python3"
    },
    "language_info": {
      "codemirror_mode": {
        "name": "ipython",
        "version": 3
      },
      "file_extension": ".py",
      "mimetype": "text/x-python",
      "name": "python",
      "nbconvert_exporter": "python",
      "pygments_lexer": "ipython3",
      "version": "3.8.5"
    }
  },
  "cells": [
    {
      "cell_type": "markdown",
      "metadata": {
        "id": "view-in-github",
        "colab_type": "text"
      },
      "source": [
        "<a href=\"https://colab.research.google.com/github/mallang7/Content_intention_Hackerton/blob/main/content_intention.ipynb\" target=\"_parent\"><img src=\"https://colab.research.google.com/assets/colab-badge.svg\" alt=\"Open In Colab\"/></a>"
      ]
    },
    {
      "cell_type": "code",
      "metadata": {
        "id": "4JNnhRlcYCY5",
        "colab": {
          "base_uri": "https://localhost:8080/"
        },
        "outputId": "c2ca86c3-96ef-4e97-9845-1b163fdf706e"
      },
      "source": [
        "import numpy as np \n",
        "import pandas as pd\n",
        "import os\n",
        "import matplotlib.pyplot as plt\n",
        "import seaborn as sns\n",
        "import tensorflow.compat.v1 as tf\n",
        "tf.disable_v2_behavior()"
      ],
      "execution_count": 1,
      "outputs": [
        {
          "output_type": "stream",
          "text": [
            "WARNING:tensorflow:From /usr/local/lib/python3.6/dist-packages/tensorflow/python/compat/v2_compat.py:96: disable_resource_variables (from tensorflow.python.ops.variable_scope) is deprecated and will be removed in a future version.\n",
            "Instructions for updating:\n",
            "non-resource variables are not supported in the long term\n"
          ],
          "name": "stdout"
        }
      ]
    },
    {
      "cell_type": "code",
      "metadata": {
        "id": "MN6evQ6lYnjf"
      },
      "source": [
        "train = pd.read_table('train.txt', header = None)\r\n",
        "train_data = train[1]\r\n",
        "train_label = train[0]"
      ],
      "execution_count": 3,
      "outputs": []
    },
    {
      "cell_type": "code",
      "metadata": {
        "id": "m2ZHYAZl9vzn"
      },
      "source": [
        "dev = pd.read_table('dev.txt', header = None)\r\n",
        "dev_data = dev[1]\r\n",
        "dev_label = dev[0]"
      ],
      "execution_count": 4,
      "outputs": []
    },
    {
      "cell_type": "code",
      "metadata": {
        "colab": {
          "base_uri": "https://localhost:8080/"
        },
        "id": "-7cst_Wl_OJY",
        "outputId": "416257d7-ab35-4364-bef2-bf7586c14f03"
      },
      "source": [
        "pip install koNLPy"
      ],
      "execution_count": 5,
      "outputs": [
        {
          "output_type": "stream",
          "text": [
            "Collecting koNLPy\n",
            "\u001b[?25l  Downloading https://files.pythonhosted.org/packages/85/0e/f385566fec837c0b83f216b2da65db9997b35dd675e107752005b7d392b1/konlpy-0.5.2-py2.py3-none-any.whl (19.4MB)\n",
            "\u001b[K     |████████████████████████████████| 19.4MB 1.2MB/s \n",
            "\u001b[?25hRequirement already satisfied: lxml>=4.1.0 in /usr/local/lib/python3.6/dist-packages (from koNLPy) (4.2.6)\n",
            "Collecting beautifulsoup4==4.6.0\n",
            "\u001b[?25l  Downloading https://files.pythonhosted.org/packages/9e/d4/10f46e5cfac773e22707237bfcd51bbffeaf0a576b0a847ec7ab15bd7ace/beautifulsoup4-4.6.0-py3-none-any.whl (86kB)\n",
            "\u001b[K     |████████████████████████████████| 92kB 10.4MB/s \n",
            "\u001b[?25hRequirement already satisfied: numpy>=1.6 in /usr/local/lib/python3.6/dist-packages (from koNLPy) (1.19.4)\n",
            "Collecting JPype1>=0.7.0\n",
            "\u001b[?25l  Downloading https://files.pythonhosted.org/packages/b7/21/9e2c0dbf9df856e6392a1aec1d18006c60b175aa4e31d351e8278a8a63c0/JPype1-1.2.0-cp36-cp36m-manylinux2010_x86_64.whl (453kB)\n",
            "\u001b[K     |████████████████████████████████| 460kB 46.1MB/s \n",
            "\u001b[?25hCollecting tweepy>=3.7.0\n",
            "  Downloading https://files.pythonhosted.org/packages/67/c3/6bed87f3b1e5ed2f34bd58bf7978e308c86e255193916be76e5a5ce5dfca/tweepy-3.10.0-py2.py3-none-any.whl\n",
            "Collecting colorama\n",
            "  Downloading https://files.pythonhosted.org/packages/44/98/5b86278fbbf250d239ae0ecb724f8572af1c91f4a11edf4d36a206189440/colorama-0.4.4-py2.py3-none-any.whl\n",
            "Requirement already satisfied: typing-extensions; python_version < \"3.8\" in /usr/local/lib/python3.6/dist-packages (from JPype1>=0.7.0->koNLPy) (3.7.4.3)\n",
            "Requirement already satisfied: six>=1.10.0 in /usr/local/lib/python3.6/dist-packages (from tweepy>=3.7.0->koNLPy) (1.15.0)\n",
            "Requirement already satisfied: requests-oauthlib>=0.7.0 in /usr/local/lib/python3.6/dist-packages (from tweepy>=3.7.0->koNLPy) (1.3.0)\n",
            "Requirement already satisfied: requests[socks]>=2.11.1 in /usr/local/lib/python3.6/dist-packages (from tweepy>=3.7.0->koNLPy) (2.23.0)\n",
            "Requirement already satisfied: oauthlib>=3.0.0 in /usr/local/lib/python3.6/dist-packages (from requests-oauthlib>=0.7.0->tweepy>=3.7.0->koNLPy) (3.1.0)\n",
            "Requirement already satisfied: urllib3!=1.25.0,!=1.25.1,<1.26,>=1.21.1 in /usr/local/lib/python3.6/dist-packages (from requests[socks]>=2.11.1->tweepy>=3.7.0->koNLPy) (1.24.3)\n",
            "Requirement already satisfied: idna<3,>=2.5 in /usr/local/lib/python3.6/dist-packages (from requests[socks]>=2.11.1->tweepy>=3.7.0->koNLPy) (2.10)\n",
            "Requirement already satisfied: chardet<4,>=3.0.2 in /usr/local/lib/python3.6/dist-packages (from requests[socks]>=2.11.1->tweepy>=3.7.0->koNLPy) (3.0.4)\n",
            "Requirement already satisfied: certifi>=2017.4.17 in /usr/local/lib/python3.6/dist-packages (from requests[socks]>=2.11.1->tweepy>=3.7.0->koNLPy) (2020.12.5)\n",
            "Requirement already satisfied: PySocks!=1.5.7,>=1.5.6; extra == \"socks\" in /usr/local/lib/python3.6/dist-packages (from requests[socks]>=2.11.1->tweepy>=3.7.0->koNLPy) (1.7.1)\n",
            "Installing collected packages: beautifulsoup4, JPype1, tweepy, colorama, koNLPy\n",
            "  Found existing installation: beautifulsoup4 4.6.3\n",
            "    Uninstalling beautifulsoup4-4.6.3:\n",
            "      Successfully uninstalled beautifulsoup4-4.6.3\n",
            "  Found existing installation: tweepy 3.6.0\n",
            "    Uninstalling tweepy-3.6.0:\n",
            "      Successfully uninstalled tweepy-3.6.0\n",
            "Successfully installed JPype1-1.2.0 beautifulsoup4-4.6.0 colorama-0.4.4 koNLPy-0.5.2 tweepy-3.10.0\n"
          ],
          "name": "stdout"
        }
      ]
    },
    {
      "cell_type": "code",
      "metadata": {
        "id": "IQt3pEHb_JSc"
      },
      "source": [
        "import re\r\n",
        "import json\r\n",
        "from konlpy.tag import Okt\r\n",
        "from tensorflow.python.keras.preprocessing.sequence import pad_sequences\r\n",
        "from tensorflow.python.keras.preprocessing.text import Tokenizer\r\n",
        "\r\n",
        "from tqdm import tqdm"
      ],
      "execution_count": 6,
      "outputs": []
    },
    {
      "cell_type": "code",
      "metadata": {
        "colab": {
          "base_uri": "https://localhost:8080/"
        },
        "id": "h8uRo0YF_o3X",
        "outputId": "d6203810-be83-45ac-c620-06928f8d0b1f"
      },
      "source": [
        "# 라벨 백터화\r\n",
        "\r\n",
        "# train\r\n",
        "from sklearn.preprocessing import LabelEncoder\r\n",
        "encoder = LabelEncoder()\r\n",
        "encoder.fit(train_label)\r\n",
        "train_labels = encoder.transform(train_label)\r\n",
        "print(train_labels)\r\n",
        "\r\n",
        "# dev\r\n",
        "encoder = LabelEncoder()\r\n",
        "encoder.fit(dev_label)\r\n",
        "dev_labels = encoder.transform(dev_label)\r\n",
        "print(dev_labels)"
      ],
      "execution_count": 7,
      "outputs": [
        {
          "output_type": "stream",
          "text": [
            "[234 234 234 ... 157 157 157]\n",
            "[234 234 234 ...  95 622 157]\n"
          ],
          "name": "stdout"
        }
      ]
    },
    {
      "cell_type": "code",
      "metadata": {
        "colab": {
          "base_uri": "https://localhost:8080/"
        },
        "id": "F8Qhf7yw_4LY",
        "outputId": "cbe87ede-37b6-49e7-d7b8-1dd4a752350d"
      },
      "source": [
        "# 데이터 전처리\r\n",
        "\r\n",
        "# train\r\n",
        "def preprocessing(review, okt, remove_stopwords = False, stop_words = []):\r\n",
        "    # 함수의 인자는 다음과 같다.\r\n",
        "    # review : 전처리할 텍스트\r\n",
        "    # okt : okt 객체를 반복적으로 생성하지 않고 미리 생성후 인자로 받는다.\r\n",
        "    # remove_stopword : 불용어를 제거할지 선택 기본값은 False\r\n",
        "    # stop_word : 불용어 사전은 사용자가 직접 입력해야함 기본값은 비어있는 리스트\r\n",
        "    \r\n",
        "    # 1. 한글 및 공백을 제외한 문자 모두 제거.\r\n",
        "    review_text = re.sub(\"[^가-힣ㄱ-ㅎㅏ-ㅣ\\\\s]\", \"\", review)\r\n",
        "    \r\n",
        "    # 2. okt 객체를 활용해서 형태소 단위로 나눈다.\r\n",
        "    word_review = okt.morphs(review_text, stem=True)\r\n",
        "    \r\n",
        "    if remove_stopwords:\r\n",
        "        \r\n",
        "        # 불용어 제거(선택적)\r\n",
        "        word_review = [token for token in word_review if not token in stop_words]\r\n",
        "        \r\n",
        "   \r\n",
        "    return word_review\r\n",
        "\r\n",
        "stop_words = [ '은', '는', '이', '가', '하', '아', '것', '들','의', '있', '되', '수', '보', '주', '등', '한']\r\n",
        "okt = Okt()\r\n",
        "clean_train_review = []\r\n",
        "\r\n",
        "for review in tqdm(train_data):\r\n",
        "    # 비어있는 데이터에서 멈추지 않도록 string인 경우만 진행\r\n",
        "    if type(review) == str:\r\n",
        "        clean_train_review.append(preprocessing(review, okt, remove_stopwords = True, stop_words=stop_words))\r\n",
        "    else:\r\n",
        "        clean_train_review.append([])  #string이 아니면 비어있는 값 추가\r\n",
        "\r\n",
        "train_tokenizer = Tokenizer()\r\n",
        "train_tokenizer.fit_on_texts(clean_train_review)\r\n",
        "train_sequences = train_tokenizer.texts_to_sequences(clean_train_review)\r\n",
        "train_word_vocab = train_tokenizer.word_index \r\n",
        "MAX_SEQUENCE_LENGTH = 30 # 문장 최대 길이\r\n",
        "\r\n",
        "train_inputs = pad_sequences(train_sequences, maxlen=MAX_SEQUENCE_LENGTH, padding='post') # 학습 데이터를 벡터화\r\n",
        "# print(train_inputs)\r\n",
        "\r\n",
        "# dev\r\n",
        "\r\n",
        "\r\n",
        "stop_words = [ '은', '는', '이', '가', '하', '아', '것', '들','의', '있', '되', '수', '보', '주', '등', '한']\r\n",
        "okt = Okt()\r\n",
        "clean_dev_review = []\r\n",
        "\r\n",
        "for review in tqdm(dev_data):\r\n",
        "    # 비어있는 데이터에서 멈추지 않도록 string인 경우만 진행\r\n",
        "    if type(review) == str:\r\n",
        "        clean_dev_review.append(preprocessing(review, okt, remove_stopwords = True, stop_words=stop_words))\r\n",
        "    else:\r\n",
        "        clean_dev_review.append([])  #string이 아니면 비어있는 값 추가\r\n",
        "\r\n",
        "dev_tokenizer = Tokenizer()\r\n",
        "dev_tokenizer.fit_on_texts(clean_train_review)\r\n",
        "dev_sequences = dev_tokenizer.texts_to_sequences(clean_dev_review)\r\n",
        "dev_word_vocab = dev_tokenizer.word_index\r\n",
        "MAX_SEQUENCE_LENGTH = 30 # 문장 최대 길이\r\n",
        "\r\n",
        "dev_inputs = pad_sequences(dev_sequences, maxlen=MAX_SEQUENCE_LENGTH, padding='post') # 학습 데이터를 벡터화"
      ],
      "execution_count": 8,
      "outputs": [
        {
          "output_type": "stream",
          "text": [
            "100%|██████████| 83712/83712 [01:33<00:00, 893.35it/s] \n",
            "100%|██████████| 9228/9228 [00:09<00:00, 963.49it/s] \n"
          ],
          "name": "stderr"
        }
      ]
    },
    {
      "cell_type": "code",
      "metadata": {
        "colab": {
          "base_uri": "https://localhost:8080/"
        },
        "id": "8OyFsjadHZJk",
        "outputId": "ffa3ce54-c59f-4712-d1f9-8f600406d026"
      },
      "source": [
        "import numpy as np\r\n",
        "\r\n",
        "def vectorize_sequences(sequences, dimension=9000):\r\n",
        "    results = np.zeros((len(sequences), dimension))\r\n",
        "    for i, sequence in enumerate(sequences):\r\n",
        "        results[i, sequence] = 1.\r\n",
        "    return results\r\n",
        "\r\n",
        "x_train = vectorize_sequences(train_inputs) # 훈련 데이터 벡터 변환\r\n",
        "x_test = vectorize_sequences(dev_inputs) # 테스트 데이터 벡터 변환\r\n",
        "print(x_train)\r\n",
        "print(x_test)"
      ],
      "execution_count": 9,
      "outputs": [
        {
          "output_type": "stream",
          "text": [
            "[[1. 1. 0. ... 0. 0. 0.]\n",
            " [1. 1. 0. ... 0. 0. 0.]\n",
            " [1. 0. 0. ... 0. 0. 0.]\n",
            " ...\n",
            " [1. 1. 0. ... 0. 0. 0.]\n",
            " [1. 0. 1. ... 0. 0. 0.]\n",
            " [1. 0. 1. ... 0. 0. 0.]]\n",
            "[[1. 0. 0. ... 0. 0. 0.]\n",
            " [1. 0. 0. ... 0. 0. 0.]\n",
            " [1. 1. 1. ... 0. 0. 0.]\n",
            " ...\n",
            " [1. 0. 0. ... 0. 0. 0.]\n",
            " [1. 0. 0. ... 0. 0. 0.]\n",
            " [1. 1. 0. ... 0. 0. 0.]]\n"
          ],
          "name": "stdout"
        }
      ]
    },
    {
      "cell_type": "code",
      "metadata": {
        "id": "0og3RPzfCwtj"
      },
      "source": [
        "def to_one_hot(labels, dimension=785):\r\n",
        "    results = np.zeros((len(labels), dimension))\r\n",
        "    for i, label in enumerate(labels):\r\n",
        "        results[i, label] = 1.\r\n",
        "    return results\r\n",
        "\r\n",
        "one_hot_train_labels = to_one_hot(train_labels) # 훈련 레이블 벡터 변환\r\n",
        "one_hot_test_labels = to_one_hot(dev_labels) # 테스트 레이블 벡터 변환"
      ],
      "execution_count": 10,
      "outputs": []
    },
    {
      "cell_type": "code",
      "metadata": {
        "id": "DnsRwQG5ChkF"
      },
      "source": [
        "from keras import models\r\n",
        "from keras import layers\r\n",
        "\r\n",
        "model = models.Sequential()\r\n",
        "model.add(layers.Dense(1024, activation='relu', input_shape=(9000,)))\r\n",
        "model.add(layers.Dense(1024, activation='relu'))\r\n",
        "model.add(layers.Dense(785, activation='softmax'))"
      ],
      "execution_count": 25,
      "outputs": []
    },
    {
      "cell_type": "code",
      "metadata": {
        "id": "hqt-rBF5CnCi"
      },
      "source": [
        "model.compile(optimizer='rmsprop',\r\n",
        "              loss='categorical_crossentropy',\r\n",
        "              metrics=['accuracy'])"
      ],
      "execution_count": 26,
      "outputs": []
    },
    {
      "cell_type": "code",
      "metadata": {
        "id": "EwcU94b8H63W"
      },
      "source": [
        "x_val = x_train[:30000]\r\n",
        "partial_x_train = x_train[30000:]\r\n",
        "\r\n",
        "y_val = one_hot_train_labels[:30000]\r\n",
        "partial_y_train = one_hot_train_labels[30000:]"
      ],
      "execution_count": 27,
      "outputs": []
    },
    {
      "cell_type": "code",
      "metadata": {
        "colab": {
          "base_uri": "https://localhost:8080/"
        },
        "id": "r6CgheBH_vRb",
        "outputId": "a86c9e34-8df7-4852-9d8b-a0014e256c85"
      },
      "source": [
        "history = model.fit(partial_x_train,\r\n",
        "                    partial_y_train,\r\n",
        "                    epochs=20,\r\n",
        "                    batch_size=512,\r\n",
        "                    validation_data=(x_val, y_val))"
      ],
      "execution_count": 18,
      "outputs": [
        {
          "output_type": "stream",
          "text": [
            "Train on 53712 samples, validate on 30000 samples\n",
            "Epoch 1/20\n",
            "53712/53712 [==============================] - ETA: 0s - loss: 4.0472 - acc: 0.3059"
          ],
          "name": "stdout"
        },
        {
          "output_type": "stream",
          "text": [
            "/usr/local/lib/python3.6/dist-packages/tensorflow/python/keras/engine/training.py:2325: UserWarning: `Model.state_updates` will be removed in a future version. This property should not be used in TensorFlow 2.0, as `updates` are applied automatically.\n",
            "  warnings.warn('`Model.state_updates` will be removed in a future version. '\n"
          ],
          "name": "stderr"
        },
        {
          "output_type": "stream",
          "text": [
            "\b\b\b\b\b\b\b\b\b\b\b\b\b\b\b\b\b\b\b\b\b\b\b\b\b\b\b\b\b\b\b\b\b\b\b\b\b\b\b\b\b\b\b\b\b\b\b\b\b\b\b\b\b\b\b\b\b\b\b\b\b\b\b\b\b\b\b\b\b\b\b\b\b\b\b\b\b\b\b\b\b\b\b\r53712/53712 [==============================] - 42s 785us/sample - loss: 4.0472 - acc: 0.3059 - val_loss: 1.8071 - val_acc: 0.5660\n",
            "Epoch 2/20\n",
            "53712/53712 [==============================] - 41s 765us/sample - loss: 1.3320 - acc: 0.6461 - val_loss: 0.8990 - val_acc: 0.7404\n",
            "Epoch 3/20\n",
            "53712/53712 [==============================] - 41s 772us/sample - loss: 0.7570 - acc: 0.7744 - val_loss: 0.6455 - val_acc: 0.8001\n",
            "Epoch 4/20\n",
            "53712/53712 [==============================] - 41s 765us/sample - loss: 0.4998 - acc: 0.8470 - val_loss: 0.4570 - val_acc: 0.8589\n",
            "Epoch 5/20\n",
            "53712/53712 [==============================] - 41s 760us/sample - loss: 0.3496 - acc: 0.8908 - val_loss: 0.3595 - val_acc: 0.8888\n",
            "Epoch 6/20\n",
            "53712/53712 [==============================] - 41s 760us/sample - loss: 0.2477 - acc: 0.9225 - val_loss: 0.2987 - val_acc: 0.9079\n",
            "Epoch 7/20\n",
            "53712/53712 [==============================] - 40s 753us/sample - loss: 0.1809 - acc: 0.9423 - val_loss: 0.2642 - val_acc: 0.9173\n",
            "Epoch 8/20\n",
            "53712/53712 [==============================] - 40s 754us/sample - loss: 0.1337 - acc: 0.9580 - val_loss: 0.2469 - val_acc: 0.9240\n",
            "Epoch 9/20\n",
            "53712/53712 [==============================] - 41s 756us/sample - loss: 0.1009 - acc: 0.9679 - val_loss: 0.2222 - val_acc: 0.9351\n",
            "Epoch 10/20\n",
            "53712/53712 [==============================] - 41s 757us/sample - loss: 0.0781 - acc: 0.9759 - val_loss: 0.2245 - val_acc: 0.9355\n",
            "Epoch 11/20\n",
            "53712/53712 [==============================] - 41s 758us/sample - loss: 0.0612 - acc: 0.9806 - val_loss: 0.2059 - val_acc: 0.9441\n",
            "Epoch 12/20\n",
            "53712/53712 [==============================] - 40s 753us/sample - loss: 0.0483 - acc: 0.9850 - val_loss: 0.2048 - val_acc: 0.9457\n",
            "Epoch 13/20\n",
            "53712/53712 [==============================] - 40s 748us/sample - loss: 0.0378 - acc: 0.9886 - val_loss: 0.2186 - val_acc: 0.9438\n",
            "Epoch 14/20\n",
            "53712/53712 [==============================] - 40s 753us/sample - loss: 0.0307 - acc: 0.9906 - val_loss: 0.2223 - val_acc: 0.9452\n",
            "Epoch 15/20\n",
            "53712/53712 [==============================] - 40s 751us/sample - loss: 0.0258 - acc: 0.9926 - val_loss: 0.2155 - val_acc: 0.9479\n",
            "Epoch 16/20\n",
            "53712/53712 [==============================] - 40s 753us/sample - loss: 0.0222 - acc: 0.9937 - val_loss: 0.2219 - val_acc: 0.9474\n",
            "Epoch 17/20\n",
            "53712/53712 [==============================] - 40s 748us/sample - loss: 0.0189 - acc: 0.9942 - val_loss: 0.2177 - val_acc: 0.9509\n",
            "Epoch 18/20\n",
            "53712/53712 [==============================] - 40s 748us/sample - loss: 0.0160 - acc: 0.9953 - val_loss: 0.2193 - val_acc: 0.9509\n",
            "Epoch 19/20\n",
            "53712/53712 [==============================] - 40s 751us/sample - loss: 0.0144 - acc: 0.9957 - val_loss: 0.2273 - val_acc: 0.9502\n",
            "Epoch 20/20\n",
            "53712/53712 [==============================] - 40s 751us/sample - loss: 0.0129 - acc: 0.9960 - val_loss: 0.2278 - val_acc: 0.9511\n"
          ],
          "name": "stdout"
        }
      ]
    },
    {
      "cell_type": "code",
      "metadata": {
        "id": "LSCmUzJ3IP45",
        "colab": {
          "base_uri": "https://localhost:8080/",
          "height": 295
        },
        "outputId": "d0a7d48d-6ff4-4f19-983b-5e0ac624f17a"
      },
      "source": [
        "import matplotlib.pyplot as plt\r\n",
        "\r\n",
        "loss = history.history['loss']\r\n",
        "val_loss = history.history['val_loss']\r\n",
        "\r\n",
        "epochs = range(1, len(loss) + 1)\r\n",
        "\r\n",
        "plt.plot(epochs, loss, 'bo', label='Training loss')\r\n",
        "plt.plot(epochs, val_loss, 'b', label='Validation loss')\r\n",
        "plt.title('Training and validation loss')\r\n",
        "plt.xlabel('Epochs')\r\n",
        "plt.ylabel('Loss')\r\n",
        "plt.legend()\r\n",
        "\r\n",
        "plt.show()"
      ],
      "execution_count": 19,
      "outputs": [
        {
          "output_type": "display_data",
          "data": {
            "image/png": "[encoded data removed]",
            "text/plain": [
              "<Figure size 432x288 with 1 Axes>"
            ]
          },
          "metadata": {
            "tags": [],
            "needs_background": "light"
          }
        }
      ]
    },
    {
      "cell_type": "code",
      "metadata": {
        "id": "eMW-A18RIinj",
        "colab": {
          "base_uri": "https://localhost:8080/",
          "height": 295
        },
        "outputId": "3e93e08a-5572-4735-f51a-78f0ccb1cce4"
      },
      "source": [
        "plt.clf()\r\n",
        "\r\n",
        "acc = history.history['acc']\r\n",
        "val_acc = history.history['val_acc']\r\n",
        "\r\n",
        "plt.plot(epochs, acc, 'bo', label='Training acc')\r\n",
        "plt.plot(epochs, val_acc, 'b', label='Validation acc')\r\n",
        "plt.title('Training and validation accuracy')\r\n",
        "plt.xlabel('Epochs')\r\n",
        "plt.ylabel('Accuracy')\r\n",
        "plt.legend()\r\n",
        "\r\n",
        "plt.show()"
      ],
      "execution_count": 20,
      "outputs": [
        {
          "output_type": "display_data",
          "data": {
            "image/png": "[encoded data removed]",
            "text/plain": [
              "<Figure size 432x288 with 1 Axes>"
            ]
          },
          "metadata": {
            "tags": [],
            "needs_background": "light"
          }
        }
      ]
    },
    {
      "cell_type": "code",
      "metadata": {
        "id": "6EL6tshoJZT0",
        "colab": {
          "base_uri": "https://localhost:8080/"
        },
        "outputId": "3089eafc-530a-41af-d0ab-612bde5670d5"
      },
      "source": [
        "model = models.Sequential()\r\n",
        "model.add(layers.Dense(1024, activation='relu', input_shape=(9000,)))\r\n",
        "model.add(layers.Dense(1024, activation='relu'))\r\n",
        "model.add(layers.Dense(785, activation='softmax'))\r\n",
        "\r\n",
        "model.compile(optimizer='rmsprop',\r\n",
        "              loss='categorical_crossentropy',\r\n",
        "              metrics=['accuracy'])\r\n",
        "model.fit(partial_x_train,\r\n",
        "          partial_y_train,\r\n",
        "          epochs=10,\r\n",
        "          batch_size=512,\r\n",
        "          validation_data=(x_val, y_val))\r\n",
        "results = model.evaluate(x_test, one_hot_test_labels)"
      ],
      "execution_count": 28,
      "outputs": [
        {
          "output_type": "stream",
          "text": [
            "Train on 53712 samples, validate on 30000 samples\n",
            "Epoch 1/10\n",
            "53712/53712 [==============================] - ETA: 0s - loss: 4.3674 - acc: 0.2255"
          ],
          "name": "stdout"
        },
        {
          "output_type": "stream",
          "text": [
            "/usr/local/lib/python3.6/dist-packages/tensorflow/python/keras/engine/training.py:2325: UserWarning: `Model.state_updates` will be removed in a future version. This property should not be used in TensorFlow 2.0, as `updates` are applied automatically.\n",
            "  warnings.warn('`Model.state_updates` will be removed in a future version. '\n"
          ],
          "name": "stderr"
        },
        {
          "output_type": "stream",
          "text": [
            "\b\b\b\b\b\b\b\b\b\b\b\b\b\b\b\b\b\b\b\b\b\b\b\b\b\b\b\b\b\b\b\b\b\b\b\b\b\b\b\b\b\b\b\b\b\b\b\b\b\b\b\b\b\b\b\b\b\b\b\b\b\b\b\b\b\b\b\b\b\b\b\b\b\b\b\b\b\b\b\b\b\b\b\r53712/53712 [==============================] - 49s 912us/sample - loss: 4.3674 - acc: 0.2255 - val_loss: 2.0179 - val_acc: 0.5074\n",
            "Epoch 2/10\n",
            "53712/53712 [==============================] - 46s 866us/sample - loss: 1.4950 - acc: 0.5936 - val_loss: 0.9609 - val_acc: 0.7146\n",
            "Epoch 3/10\n",
            "53712/53712 [==============================] - 46s 865us/sample - loss: 0.8373 - acc: 0.7437 - val_loss: 0.6331 - val_acc: 0.8062\n",
            "Epoch 4/10\n",
            "53712/53712 [==============================] - 47s 875us/sample - loss: 0.5212 - acc: 0.8368 - val_loss: 0.5146 - val_acc: 0.8418\n",
            "Epoch 5/10\n",
            "53712/53712 [==============================] - 47s 868us/sample - loss: 0.3321 - acc: 0.8943 - val_loss: 0.3838 - val_acc: 0.8848\n",
            "Epoch 6/10\n",
            "53712/53712 [==============================] - 47s 871us/sample - loss: 0.2112 - acc: 0.9312 - val_loss: 0.3184 - val_acc: 0.9099\n",
            "Epoch 7/10\n",
            "53712/53712 [==============================] - 47s 873us/sample - loss: 0.1360 - acc: 0.9555 - val_loss: 0.2887 - val_acc: 0.9234\n",
            "Epoch 8/10\n",
            "53712/53712 [==============================] - 46s 856us/sample - loss: 0.0918 - acc: 0.9703 - val_loss: 0.2619 - val_acc: 0.9339\n",
            "Epoch 9/10\n",
            "53712/53712 [==============================] - 46s 862us/sample - loss: 0.0637 - acc: 0.9794 - val_loss: 0.2805 - val_acc: 0.9332\n",
            "Epoch 10/10\n",
            "53712/53712 [==============================] - 46s 856us/sample - loss: 0.0461 - acc: 0.9858 - val_loss: 0.2749 - val_acc: 0.9389\n"
          ],
          "name": "stdout"
        }
      ]
    },
    {
      "cell_type": "code",
      "metadata": {
        "id": "DMu35xvdYinT",
        "colab": {
          "base_uri": "https://localhost:8080/"
        },
        "outputId": "303d01fb-b22b-4e6b-baa5-1fec0afda4f1"
      },
      "source": [
        "print(results)"
      ],
      "execution_count": 29,
      "outputs": [
        {
          "output_type": "stream",
          "text": [
            "[2.891250939197648, 0.6053316]\n"
          ],
          "name": "stdout"
        }
      ]
    },
    {
      "cell_type": "code",
      "metadata": {
        "id": "-5kaE8xrUTB2"
      },
      "source": [
        "dev_data.to_csv('C:/Users/Sunwoo/result.csv')"
      ],
      "execution_count": null,
      "outputs": []
    },
    {
      "cell_type": "code",
      "metadata": {
        "id": "hPMPaA1kL8Z1"
      },
      "source": [
        ""
      ],
      "execution_count": null,
      "outputs": []
    },
    {
      "cell_type": "code",
      "metadata": {
        "id": "z2kWG3KfL3jH"
      },
      "source": [
        ""
      ],
      "execution_count": null,
      "outputs": []
    },
    {
      "cell_type": "code",
      "metadata": {
        "id": "epbwYGnEL1Y_"
      },
      "source": [
        ""
      ],
      "execution_count": null,
      "outputs": []
    },
    {
      "cell_type": "code",
      "metadata": {
        "id": "LFwX2n2DJ5pi"
      },
      "source": [
        ""
      ],
      "execution_count": null,
      "outputs": []
    },
    {
      "cell_type": "code",
      "metadata": {
        "id": "sblpDoPQJ4tR"
      },
      "source": [
        ""
      ],
      "execution_count": null,
      "outputs": []
    }
  ]
}